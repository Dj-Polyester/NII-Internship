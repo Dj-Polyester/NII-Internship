{
  "nbformat": 4,
  "nbformat_minor": 0,
  "metadata": {
    "colab": {
      "provenance": [],
      "gpuType": "T4"
    },
    "kernelspec": {
      "name": "python3",
      "display_name": "Python 3"
    },
    "language_info": {
      "name": "python"
    },
    "accelerator": "GPU"
  },
  "cells": [
    {
      "cell_type": "code",
      "execution_count": null,
      "metadata": {
        "id": "hz8D8onZX-Nv"
      },
      "outputs": [],
      "source": [
        "import torch\n",
        "from transformers import AutoModelForCausalLM, AutoTokenizer, pipeline\n",
        "from pprint import pprint\n",
        "from pathlib import Path\n",
        "MODEL_NAME = \"microsoft/Phi-3-mini-128k-instruct\"\n",
        "def get_tokenizer(tokenizerdir=\"./tokenizer\"):\n",
        "  tokenizerexists = Path(tokenizerdir).exists()\n",
        "  tokenizer_path = tokenizerdir if tokenizerexists else MODEL_NAME\n",
        "  tokenizer = AutoTokenizer.from_pretrained(MODEL_NAME)\n",
        "  if not tokenizerexists:\n",
        "    tokenizer.save_pretrained(tokenizerdir)\n",
        "  return tokenizer\n",
        "def create_pipe(modeldir=\"./model\"):\n",
        "  modelexists = Path(modeldir).exists()\n",
        "  model_path = modeldir if modelexists else MODEL_NAME\n",
        "  model = AutoModelForCausalLM.from_pretrained(\n",
        "      MODEL_NAME,\n",
        "      device_map=\"cuda\",\n",
        "      torch_dtype=\"auto\",\n",
        "      trust_remote_code=True,\n",
        "  )\n",
        "  if not modelexists:\n",
        "    model.save_pretrained(modeldir)\n",
        "  pipe = pipeline(\n",
        "      \"text-generation\",\n",
        "      model=model,\n",
        "      tokenizer=tokenizer,\n",
        "  )\n",
        "  return pipe\n",
        "generation_args = {\n",
        "    \"max_new_tokens\": 500,\n",
        "    \"return_full_text\": False,\n",
        "    \"temperature\": 0.0,\n",
        "    \"do_sample\": False,\n",
        "}"
      ]
    },
    {
      "cell_type": "code",
      "source": [
        "tokenizer = get_tokenizer()"
      ],
      "metadata": {
        "id": "nxe9xWuSzOvQ"
      },
      "execution_count": null,
      "outputs": []
    },
    {
      "cell_type": "code",
      "source": [
        "prompts = [{'messages': [{'role': 'system', 'content': \"List of predicates is ['org:founded', 'org:subsidiaries', 'per:date_of_birth', 'per:cause_of_death', 'per:age', 'per:stateorprovince_of_birth', 'per:countries_of_residence', 'per:country_of_birth', 'per:stateorprovinces_of_residence', 'org:website', 'per:cities_of_residence', 'per:parents', 'per:employee_of', 'NA', 'per:city_of_birth', 'org:parents', 'org:political/religious_affiliation', 'per:schools_attended', 'per:country_of_death', 'per:children', 'org:top_members/employees', 'per:date_of_death', 'org:members', 'org:alternate_names', 'per:religion', 'org:member_of', 'org:city_of_headquarters', 'per:origin', 'org:shareholders', 'per:charges', 'per:title', 'org:number_of_employees/members', 'org:dissolved', 'org:country_of_headquarters', 'per:alternate_names', 'per:siblings', 'org:stateorprovince_of_headquarters', 'per:spouse', 'per:other_family', 'per:city_of_death', 'per:stateorprovince_of_death', 'org:founded_by']. What Subject-Predicate-Object triples are included in the task sentence? Each triple is in the form ('subject', 'predicate', 'object'). 'predicate' must be from the list of predicates only. Only use 'NA' when you cannot find any reasonable predicates. Only return the triples in a Python list.\"}, {'role': 'user', 'content': \" [('USA Network', 'NA', 'Turfway Park')]\"}, {'role': 'assistant', 'content': \"The series leading to the may 1 derby will begin march 27 on usa network with the louisiana derby from new orleans, and will also include the lane 's end stakes from turfway park in florence, ky.. \"}, {'role': 'user', 'content': \" [('MBIA', 'org:top_members/employees', 'Charles E. Chaplin')]\"}, {'role': 'assistant', 'content': \"The bond insurers declined to comment on friday, though on thursday, mbia 's chief financial officer, charles e. chaplin, vigorously defended his company at a hearing in congress and said it did not need any help. \"}, {'role': 'assistant', 'content': 'A result is that for a variety of reasons, several prominent corporations that typically promote chief executives from within have turned to the outside to fill their top spot in recent years, including boeing, chrysler, con-agra, ford, hewlett- packard and 3m. '}], 'label': \"[('Con-Agra', 'NA', 'Chrysler')]\"}, {'messages': [{'role': 'system', 'content': \"List of predicates is ['org:founded', 'org:subsidiaries', 'per:date_of_birth', 'per:cause_of_death', 'per:age', 'per:stateorprovince_of_birth', 'per:countries_of_residence', 'per:country_of_birth', 'per:stateorprovinces_of_residence', 'org:website', 'per:cities_of_residence', 'per:parents', 'per:employee_of', 'NA', 'per:city_of_birth', 'org:parents', 'org:political/religious_affiliation', 'per:schools_attended', 'per:country_of_death', 'per:children', 'org:top_members/employees', 'per:date_of_death', 'org:members', 'org:alternate_names', 'per:religion', 'org:member_of', 'org:city_of_headquarters', 'per:origin', 'org:shareholders', 'per:charges', 'per:title', 'org:number_of_employees/members', 'org:dissolved', 'org:country_of_headquarters', 'per:alternate_names', 'per:siblings', 'org:stateorprovince_of_headquarters', 'per:spouse', 'per:other_family', 'per:city_of_death', 'per:stateorprovince_of_death', 'org:founded_by']. What Subject-Predicate-Object triples are included in the task sentence? Each triple is in the form ('subject', 'predicate', 'object'). 'predicate' must be from the list of predicates only. Only use 'NA' when you cannot find any reasonable predicates. Only return the triples in a Python list.\"}, {'role': 'user', 'content': \" [('David Gregory', 'NA', 'Virginia')]\"}, {'role': 'assistant', 'content': \"Just earlier david gregory was interviewing cantor, and he talked about the virginia primary ballot and said `` there 's no one else on the ballot with romney ''. \"}, {'role': 'assistant', 'content': 'The 23-year-old halim told the jakarta globe that she is a member of the church, for which she did humanitarian work after the asian tsunami in 2004, the mail and guardian said. '}], 'label': \"[('Jakarta Globe', 'NA', '2004')]\"}, {'messages': [{'role': 'system', 'content': \"List of predicates is ['org:founded', 'org:subsidiaries', 'per:date_of_birth', 'per:cause_of_death', 'per:age', 'per:stateorprovince_of_birth', 'per:countries_of_residence', 'per:country_of_birth', 'per:stateorprovinces_of_residence', 'org:website', 'per:cities_of_residence', 'per:parents', 'per:employee_of', 'NA', 'per:city_of_birth', 'org:parents', 'org:political/religious_affiliation', 'per:schools_attended', 'per:country_of_death', 'per:children', 'org:top_members/employees', 'per:date_of_death', 'org:members', 'org:alternate_names', 'per:religion', 'org:member_of', 'org:city_of_headquarters', 'per:origin', 'org:shareholders', 'per:charges', 'per:title', 'org:number_of_employees/members', 'org:dissolved', 'org:country_of_headquarters', 'per:alternate_names', 'per:siblings', 'org:stateorprovince_of_headquarters', 'per:spouse', 'per:other_family', 'per:city_of_death', 'per:stateorprovince_of_death', 'org:founded_by']. What Subject-Predicate-Object triples are included in the task sentence? Each triple is in the form ('subject', 'predicate', 'object'). 'predicate' must be from the list of predicates only. Only use 'NA' when you cannot find any reasonable predicates. Only return the triples in a Python list.\"}, {'role': 'assistant', 'content': \"Directed by david gordon green; written by green, based on the novel by stewart o'nan; director of photography, tim orr; edited by william anderson; music by david wingo and jeff mcilwain; production designer, richard wright; produced by dan lindau, paul miller, lisa muskat and cami taylor; released by warner independent pictures. \"}], 'label': \"[('William Anderson', 'NA', 'Paul Miller')]\"}, {'messages': [{'role': 'system', 'content': \"What Subject-Predicate-Object triples are included in the task sentence? Each triple is in the form ('subject', 'predicate', 'object'). Only return the triples in a Python list.\"}, {'role': 'user', 'content': \" [('USA Network', 'NA', 'Turfway Park')]\"}, {'role': 'assistant', 'content': \"The series leading to the may 1 derby will begin march 27 on usa network with the louisiana derby from new orleans, and will also include the lane 's end stakes from turfway park in florence, ky.. \"}, {'role': 'user', 'content': \" [('MBIA', 'org:top_members/employees', 'Charles E. Chaplin')]\"}, {'role': 'assistant', 'content': \"The bond insurers declined to comment on friday, though on thursday, mbia 's chief financial officer, charles e. chaplin, vigorously defended his company at a hearing in congress and said it did not need any help. \"}, {'role': 'assistant', 'content': 'A result is that for a variety of reasons, several prominent corporations that typically promote chief executives from within have turned to the outside to fill their top spot in recent years, including boeing, chrysler, con-agra, ford, hewlett- packard and 3m. '}], 'label': \"[('Con-Agra', 'NA', 'Chrysler')]\"}, {'messages': [{'role': 'system', 'content': \"What Subject-Predicate-Object triples are included in the task sentence? Each triple is in the form ('subject', 'predicate', 'object'). Only return the triples in a Python list.\"}, {'role': 'user', 'content': \" [('David Gregory', 'NA', 'Virginia')]\"}, {'role': 'assistant', 'content': \"Just earlier david gregory was interviewing cantor, and he talked about the virginia primary ballot and said `` there 's no one else on the ballot with romney ''. \"}, {'role': 'assistant', 'content': 'The 23-year-old halim told the jakarta globe that she is a member of the church, for which she did humanitarian work after the asian tsunami in 2004, the mail and guardian said. '}], 'label': \"[('Jakarta Globe', 'NA', '2004')]\"}, {'messages': [{'role': 'system', 'content': \"What Subject-Predicate-Object triples are included in the task sentence? Each triple is in the form ('subject', 'predicate', 'object'). Only return the triples in a Python list.\"}, {'role': 'assistant', 'content': \"Directed by david gordon green; written by green, based on the novel by stewart o'nan; director of photography, tim orr; edited by william anderson; music by david wingo and jeff mcilwain; production designer, richard wright; produced by dan lindau, paul miller, lisa muskat and cami taylor; released by warner independent pictures. \"}], 'label': \"[('William Anderson', 'NA', 'Paul Miller')]\"}]"
      ],
      "metadata": {
        "id": "CayuqJpNyRJL"
      },
      "execution_count": null,
      "outputs": []
    },
    {
      "cell_type": "code",
      "source": [
        "def lens(data):\n",
        "  return [len(d) for d in data]\n",
        "for messages in prompts:\n",
        "  tokenized = tokenizer.apply_chat_template(messages[\"messages\"], tokenize=True, add_generation_prompt=True)\n",
        "  print(len(tokenized))\n",
        "  #print(lens(tokenized[\"input_ids\"]))"
      ],
      "metadata": {
        "id": "RZ4L5OBwg69G"
      },
      "execution_count": null,
      "outputs": []
    },
    {
      "cell_type": "code",
      "source": [
        "with open(\"phi3prompts.txt\", \"w\") as fw:\n",
        "  for messages in prompts:\n",
        "      pipe = create_pipe()\n",
        "      output = pipe(messages[\"messages\"], **generation_args)\n",
        "      output = output[0]['generated_text']\n",
        "      pprint(f\"Prompt: {messages['messages']}\")\n",
        "      print(f\"\\n\\nLabel: {messages['label']}\\nPrediction: {output}\\n\")\n",
        "      pprint(messages[\"messages\"], fw)\n",
        "      print(f\"\\n\\nLabel: {messages['label']}\\nPrediction: {output}\\n\", file=fw)"
      ],
      "metadata": {
        "id": "q1hQgMICub29"
      },
      "execution_count": null,
      "outputs": []
    }
  ]
}